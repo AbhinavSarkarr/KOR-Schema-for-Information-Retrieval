{
 "cells": [
  {
   "cell_type": "markdown",
   "metadata": {},
   "source": [
    "#### Kor is a thin wrapper on top of LLMs that helps to extract structured data using LLMs."
   ]
  },
  {
   "cell_type": "code",
   "execution_count": 5,
   "metadata": {},
   "outputs": [
    {
     "data": {
      "text/plain": [
       "True"
      ]
     },
     "execution_count": 5,
     "metadata": {},
     "output_type": "execute_result"
    }
   ],
   "source": [
    "from kor.extraction import create_extraction_chain\n",
    "from kor.nodes import Object, Text, Number\n",
    "from langchain_openai import ChatOpenAI\n",
    "import os\n",
    "from dotenv import load_dotenv\n",
    "\n",
    "load_dotenv()"
   ]
  },
  {
   "cell_type": "markdown",
   "metadata": {},
   "source": [
    "To use Kor, specify the schema of what should be extracted and provide some extraction examples. <br>\n",
    "Kor requires that you specify the schema of what you want parsed with some optional examples."
   ]
  },
  {
   "cell_type": "code",
   "execution_count": 2,
   "metadata": {},
   "outputs": [],
   "source": [
    "schema = Object(\n",
    "    id=\"person\",\n",
    "    description=\"Personal information\",\n",
    "    attributes=[\n",
    "        Text(\n",
    "            id=\"first_name\",\n",
    "            description=\"The first name of a person.\",\n",
    "        )\n",
    "    ],\n",
    "    examples=[\n",
    "        (\"Alice and Bob are friends\", [{\"first_name\": \"Alice\"}, {\"first_name\": \"Bob\"}])\n",
    "    ],\n",
    "    many=True,\n",
    ")"
   ]
  },
  {
   "cell_type": "markdown",
   "metadata": {},
   "source": [
    "The schema above consists of a single object node which contains a single text attribute called first_name.\n",
    "\n",
    "The object can be repeated many times, so if the text contains many multiple first names, multiple objects will be extracted.\n",
    "\n",
    "As part of the schema, we specified a description of what we’re extracting, as well as 2 examples.\n",
    "\n",
    "Including both a description and examples will likely improve performance."
   ]
  },
  {
   "cell_type": "code",
   "execution_count": 11,
   "metadata": {},
   "outputs": [],
   "source": [
    "llm = ChatOpenAI(\n",
    "    api_key=os.getenv(\"OPENAI_API_KEY\"),\n",
    "    model_name=\"gpt-4o-mini\",\n",
    "    temperature=0,\n",
    "    max_tokens=2000,\n",
    ")"
   ]
  },
  {
   "cell_type": "code",
   "execution_count": 12,
   "metadata": {},
   "outputs": [],
   "source": [
    "chain = create_extraction_chain(llm, schema)"
   ]
  },
  {
   "cell_type": "markdown",
   "metadata": {},
   "source": [
    "Extract: With a chain and a schema defined, we’re ready to extract data."
   ]
  },
  {
   "cell_type": "code",
   "execution_count": 13,
   "metadata": {},
   "outputs": [
    {
     "data": {
      "text/plain": [
       "{'data': {'person': [{'first_name': 'Bobby'}, {'first_name': 'Joe'}]},\n",
       " 'raw': 'first_name\\nBobby\\nJoe',\n",
       " 'errors': [],\n",
       " 'validated_data': {}}"
      ]
     },
     "execution_count": 13,
     "metadata": {},
     "output_type": "execute_result"
    }
   ],
   "source": [
    "chain.invoke((\"My name is Bobby. My brother's name Joe.\"))"
   ]
  },
  {
   "cell_type": "code",
   "execution_count": 14,
   "metadata": {},
   "outputs": [
    {
     "data": {
      "text/plain": [
       "{'person': [{'first_name': 'Bobby'}, {'first_name': 'Joe'}]}"
      ]
     },
     "execution_count": 14,
     "metadata": {},
     "output_type": "execute_result"
    }
   ],
   "source": [
    "chain.invoke((\"My name is Bobby. My brother's name Joe.\"))[\"data\"]"
   ]
  },
  {
   "cell_type": "markdown",
   "metadata": {},
   "source": [
    "And here’s the actual prompt that was sent to the LLM."
   ]
  },
  {
   "cell_type": "code",
   "execution_count": 15,
   "metadata": {},
   "outputs": [
    {
     "name": "stdout",
     "output_type": "stream",
     "text": [
      "Your goal is to extract structured information from the user's input that matches the form described below. When extracting information please make sure it matches the type information exactly. Do not add any attributes that do not appear in the schema shown below.\n",
      "\n",
      "```TypeScript\n",
      "\n",
      "person: Array<{ // Personal information\n",
      " first_name: string // The first name of a person.\n",
      "}>\n",
      "```\n",
      "\n",
      "\n",
      "Please output the extracted information in CSV format in Excel dialect. Please use a | as the delimiter. \n",
      " Do NOT add any clarifying information. Output MUST follow the schema above. Do NOT add any additional columns that do not appear in the schema.\n",
      "\n",
      "\n",
      "\n",
      "Input: Alice and Bob are friends\n",
      "Output: first_name\n",
      "Alice\n",
      "Bob\n",
      "\n",
      "Input: [user input]\n",
      "Output:\n"
     ]
    }
   ],
   "source": [
    "print(chain.get_prompts()[0].format_prompt(text=\"[user input]\").to_string())"
   ]
  },
  {
   "cell_type": "code",
   "execution_count": 16,
   "metadata": {},
   "outputs": [],
   "source": [
    "from kor import from_pydantic\n",
    "from typing import List, Optional\n",
    "from pydantic import BaseModel, Field"
   ]
  },
  {
   "cell_type": "code",
   "execution_count": 17,
   "metadata": {},
   "outputs": [],
   "source": [
    "class Person(BaseModel):\n",
    "    first_name: str = Field(description=\"The first name of a person\")"
   ]
  },
  {
   "cell_type": "code",
   "execution_count": 18,
   "metadata": {},
   "outputs": [],
   "source": [
    "schema, validator = from_pydantic(\n",
    "    Person,\n",
    "    description=\"Personal Information\",  \n",
    "    examples=[  \n",
    "        (\"Alice and Bob are friends\", [{\"first_name\": \"Alice\"}, {\"first_name\": \"Bob\"}])\n",
    "    ],\n",
    "    many=True, \n",
    ")\n",
    "\n",
    "#here unlike object class of kor nodes, we don't need to attributes to be extracted as we are already providing the pydantic class which consist of all the fields to be extracted "
   ]
  },
  {
   "cell_type": "code",
   "execution_count": 19,
   "metadata": {},
   "outputs": [],
   "source": [
    "chain = create_extraction_chain(llm, schema, validator=validator)"
   ]
  },
  {
   "cell_type": "code",
   "execution_count": 21,
   "metadata": {},
   "outputs": [
    {
     "data": {
      "text/plain": [
       "{'person': [{'first_name': 'Bobby'}, {'first_name': 'Joe'}]}"
      ]
     },
     "execution_count": 21,
     "metadata": {},
     "output_type": "execute_result"
    }
   ],
   "source": [
    "chain.invoke((\"My name is Bobby. My brother's name Joe.\"))['data']"
   ]
  },
  {
   "cell_type": "code",
   "execution_count": 22,
   "metadata": {},
   "outputs": [],
   "source": [
    "#kor example with object \n",
    "\n",
    "schema = Object(\n",
    "    id=\"personal_info\",\n",
    "    description=\"Personal information about a given person.\",\n",
    "    attributes=[\n",
    "        Text(\n",
    "            id=\"first_name\",\n",
    "            description=\"The first name of the person\",\n",
    "            examples=[(\"John Smith went to the store\", \"John\")],\n",
    "        ),\n",
    "        Text(\n",
    "            id=\"last_name\",\n",
    "            description=\"The last name of the person\",\n",
    "            examples=[(\"John Smith went to the store\", \"Smith\")],\n",
    "        ),\n",
    "        Number(\n",
    "            id=\"age\",\n",
    "            description=\"The age of the person in years.\",\n",
    "            examples=[(\"23 years old\", \"23\"), (\"I turned three on sunday\", \"3\")],\n",
    "        ),\n",
    "    ],\n",
    "    examples=[\n",
    "        (\n",
    "            \"John Smith was 23 years old. He was very tall. He knew Jane Doe. She was 5 years old.\",\n",
    "            [\n",
    "                {\"first_name\": \"John\", \"last_name\": \"Smith\", \"age\": 23},\n",
    "                {\"first_name\": \"Jane\", \"last_name\": \"Doe\", \"age\": 5},\n",
    "            ],\n",
    "        )\n",
    "    ],\n",
    "    many=True,\n",
    ")\n",
    "\n",
    "\n",
    "chain = create_extraction_chain(llm, schema)"
   ]
  },
  {
   "cell_type": "code",
   "execution_count": 23,
   "metadata": {},
   "outputs": [
    {
     "name": "stdout",
     "output_type": "stream",
     "text": [
      "Your goal is to extract structured information from the user's input that matches the form described below. When extracting information please make sure it matches the type information exactly. Do not add any attributes that do not appear in the schema shown below.\n",
      "\n",
      "```TypeScript\n",
      "\n",
      "personal_info: Array<{ // Personal information about a given person.\n",
      " first_name: string // The first name of the person\n",
      " last_name: string // The last name of the person\n",
      " age: number // The age of the person in years.\n",
      "}>\n",
      "```\n",
      "\n",
      "\n",
      "Please output the extracted information in CSV format in Excel dialect. Please use a | as the delimiter. \n",
      " Do NOT add any clarifying information. Output MUST follow the schema above. Do NOT add any additional columns that do not appear in the schema.\n",
      "\n",
      "\n",
      "\n",
      "Input: John Smith was 23 years old. He was very tall. He knew Jane Doe. She was 5 years old.\n",
      "Output: first_name|last_name|age\n",
      "John|Smith|23\n",
      "Jane|Doe|5\n",
      "\n",
      "Input: John Smith went to the store\n",
      "Output: first_name|last_name|age\n",
      "John||\n",
      "\n",
      "Input: John Smith went to the store\n",
      "Output: first_name|last_name|age\n",
      "|Smith|\n",
      "\n",
      "Input: 23 years old\n",
      "Output: first_name|last_name|age\n",
      "||23\n",
      "\n",
      "Input: I turned three on sunday\n",
      "Output: first_name|last_name|age\n",
      "||3\n",
      "\n",
      "Input: [user input]\n",
      "Output:\n"
     ]
    }
   ],
   "source": [
    "print(chain.get_prompts()[0].format_prompt(text=\"[user input]\").to_string())"
   ]
  },
  {
   "cell_type": "code",
   "execution_count": 24,
   "metadata": {},
   "outputs": [
    {
     "name": "stdout",
     "output_type": "stream",
     "text": [
      "{'personal_info': [{'first_name': 'Bob', 'last_name': 'Alice', 'age': '0'}, {'first_name': 'Moana', 'last_name': 'Sunrise', 'age': '10'}]}\n"
     ]
    }
   ],
   "source": [
    "print(\n",
    "    chain.invoke(\n",
    "        \"My name is Bob Alice and my phone number is (123)-444-9999. I found my true love one\"\n",
    "        \" on a blue sunday. Her number was (333)1232832. Her name was Moana Sunrise and she was 10 years old.\"\n",
    "    )[\"data\"]\n",
    ")"
   ]
  },
  {
   "cell_type": "markdown",
   "metadata": {},
   "source": [
    "Nested Objects: \n",
    "Here, we’ll introduce an Address object which will be neste inside of the main schema."
   ]
  },
  {
   "cell_type": "code",
   "execution_count": 25,
   "metadata": {},
   "outputs": [],
   "source": [
    "from_address = Object(\n",
    "    id=\"from_address\",\n",
    "    description=\"Person moved away from this address\",\n",
    "    attributes=[\n",
    "        Text(id=\"street\"),\n",
    "        Text(id=\"city\"),\n",
    "        Text(id=\"state\"),\n",
    "        Text(id=\"zipcode\"),\n",
    "        Text(id=\"country\", description=\"A country in the world; e.g., France.\"),\n",
    "    ],\n",
    "    examples=[\n",
    "        (\n",
    "            \"100 Main St, Boston, MA, 23232, USA\",\n",
    "            {\n",
    "                \"street\": \"100 Marlo St\",\n",
    "                \"city\": \"Boston\",\n",
    "                \"state\": \"MA\",\n",
    "                \"zipcode\": \"23232\",\n",
    "                \"country\": \"USA\",\n",
    "            },\n",
    "        )\n",
    "    ],\n",
    ")\n",
    "\n",
    "to_address = from_address.replace(\n",
    "    id=\"to_address\", description=\"Address to which the person is moving\"\n",
    ")\n",
    "\n",
    "schema = Object(\n",
    "    id=\"information\",\n",
    "    attributes=[\n",
    "        Text(\n",
    "            id=\"person_name\",\n",
    "            description=\"The full name of the person or partial name\",\n",
    "            examples=[(\"John Smith was here\", \"John Smith\")],\n",
    "        ),\n",
    "        from_address,\n",
    "        to_address,\n",
    "    ],\n",
    "    many=True,\n",
    ")"
   ]
  },
  {
   "cell_type": "markdown",
   "metadata": {},
   "source": [
    "To use nested objects, at least for now we have to swap to the JSON encoder.<br>\n",
    "\n",
    "Anecdotally, CSV encoding seems to produce more robust extraction results, so JSON encoding may perform worse even though it’s more flexible."
   ]
  },
  {
   "cell_type": "code",
   "execution_count": 26,
   "metadata": {},
   "outputs": [],
   "source": [
    "chain = create_extraction_chain(\n",
    "    llm, schema, encoder_or_encoder_class=\"json\", input_formatter=None\n",
    ")"
   ]
  },
  {
   "cell_type": "code",
   "execution_count": 27,
   "metadata": {},
   "outputs": [
    {
     "data": {
      "text/plain": [
       "{'information': [{'person_name': 'Alice Doe',\n",
       "   'from_address': {'street': '',\n",
       "    'city': 'New York',\n",
       "    'state': '',\n",
       "    'zipcode': '',\n",
       "    'country': ''},\n",
       "   'to_address': {'street': '',\n",
       "    'city': 'Boston',\n",
       "    'state': 'MA',\n",
       "    'zipcode': '',\n",
       "    'country': ''}},\n",
       "  {'person_name': 'Bob Smith',\n",
       "   'from_address': {'street': '',\n",
       "    'city': 'Boston',\n",
       "    'state': 'MA',\n",
       "    'zipcode': '',\n",
       "    'country': ''},\n",
       "   'to_address': {'street': '',\n",
       "    'city': 'New York',\n",
       "    'state': '',\n",
       "    'zipcode': '',\n",
       "    'country': ''}}]}"
      ]
     },
     "execution_count": 27,
     "metadata": {},
     "output_type": "execute_result"
    }
   ],
   "source": [
    "chain.invoke(\n",
    "    \"Alice Doe moved from New York to Boston, MA while Bob Smith did the opposite.\"\n",
    ")[\"data\"]"
   ]
  },
  {
   "cell_type": "markdown",
   "metadata": {},
   "source": [
    "Nested Lists: Let’s repeat the same schema as above, but let the address be a many=True field."
   ]
  },
  {
   "cell_type": "code",
   "execution_count": 31,
   "metadata": {},
   "outputs": [],
   "source": [
    "from_address = Object(\n",
    "    id=\"from_address\",\n",
    "    description=\"Person moved away from this address\",\n",
    "    attributes=[\n",
    "        Text(id=\"street\"),\n",
    "        Text(id=\"city\"),\n",
    "        Text(id=\"state\"),\n",
    "        Text(id=\"zipcode\"),\n",
    "        Text(id=\"country\", description=\"A country in the world; e.g., France.\"),\n",
    "    ],\n",
    "    examples=[\n",
    "        (\n",
    "            \"100 Main St, Boston,MA, 23232, USA\",\n",
    "            {\n",
    "                \"street\": \"100 Marlo St\",\n",
    "                \"city\": \"Boston\",\n",
    "                \"state\": \"MA\",\n",
    "                \"zipcode\": \"23232\",\n",
    "                \"country\": \"USA\",\n",
    "            },\n",
    "        )\n",
    "    ],\n",
    "    many=True,  # <-- PLEASE NOTE THIS CHANGE\n",
    ")\n",
    "\n",
    "to_address = from_address.replace(\n",
    "    id=\"to_address\", description=\"Address to which the person is moving\"\n",
    ")\n",
    "\n",
    "schema = Object(\n",
    "    id=\"information\",\n",
    "    attributes=[\n",
    "        Text(\n",
    "            id=\"person_name\",\n",
    "            description=\"The full name of the person or partial name\",\n",
    "            examples=[(\"John Smith was here\", \"John Smith\")],\n",
    "        ),\n",
    "        from_address,\n",
    "        to_address,\n",
    "    ],\n",
    "    many=True,\n",
    ")"
   ]
  },
  {
   "cell_type": "code",
   "execution_count": 32,
   "metadata": {},
   "outputs": [],
   "source": [
    "chain = create_extraction_chain(llm, schema, encoder_or_encoder_class=\"json\")"
   ]
  },
  {
   "cell_type": "code",
   "execution_count": 33,
   "metadata": {},
   "outputs": [
    {
     "data": {
      "text/plain": [
       "{'information': [{'person_name': 'Alice Doe',\n",
       "   'from_address': [{'street': '',\n",
       "     'city': 'New York',\n",
       "     'state': '',\n",
       "     'zipcode': '',\n",
       "     'country': ''}],\n",
       "   'to_address': [{'street': '',\n",
       "     'city': 'Boston',\n",
       "     'state': '',\n",
       "     'zipcode': '',\n",
       "     'country': ''}]},\n",
       "  {'person_name': 'Bob Smith',\n",
       "   'from_address': [{'street': '',\n",
       "     'city': 'New York',\n",
       "     'state': '',\n",
       "     'zipcode': '',\n",
       "     'country': ''}],\n",
       "   'to_address': [{'street': '',\n",
       "     'city': 'Boston',\n",
       "     'state': '',\n",
       "     'zipcode': '',\n",
       "     'country': ''}]},\n",
       "  {'person_name': 'Bob Smith',\n",
       "   'from_address': [{'street': '',\n",
       "     'city': 'Boston',\n",
       "     'state': '',\n",
       "     'zipcode': '',\n",
       "     'country': ''}],\n",
       "   'to_address': [{'street': '',\n",
       "     'city': 'LA',\n",
       "     'state': '',\n",
       "     'zipcode': '',\n",
       "     'country': ''}]}]}"
      ]
     },
     "execution_count": 33,
     "metadata": {},
     "output_type": "execute_result"
    }
   ],
   "source": [
    "chain.invoke(\n",
    "    \"Alice Doe and Bob Smith moved from New York to Boston. Bob later moved to LA.\"\n",
    ")[\"data\"]"
   ]
  },
  {
   "cell_type": "markdown",
   "metadata": {},
   "source": [
    "Untyped Objects: It’s possible to provide just examples without type information. It may be that the quality of results won’t be affected significantly, if one adds sufficient examples to compensate for lack of information about the schema.\n",
    "\n"
   ]
  },
  {
   "cell_type": "code",
   "execution_count": 37,
   "metadata": {},
   "outputs": [],
   "source": [
    "#Natural Language Based APIs\n",
    "\n",
    "schema = Object(\n",
    "    id=\"action\",\n",
    "    description=\"User is looking for sports tickets\",\n",
    "    attributes=[\n",
    "        Text(\n",
    "            id=\"sport\",\n",
    "            description=\"which sports do you want to buy tickets for?\",\n",
    "            examples=[\n",
    "                (\n",
    "                    \"I want to buy tickets to basketball and football games\",\n",
    "                    [\"basketball\", \"footbal\"],\n",
    "                )\n",
    "            ],\n",
    "        ),\n",
    "        Text(\n",
    "            id=\"location\",\n",
    "            description=\"where would you like to watch the game?\",\n",
    "            examples=[\n",
    "                (\"in boston\", \"boston\"),\n",
    "                (\"in france or italy\", [\"france\", \"italy\"]),\n",
    "            ],\n",
    "        ),\n",
    "        Object(\n",
    "            id=\"price_range\",\n",
    "            description=\"how much do you want to spend?\",\n",
    "            attributes=[],\n",
    "            examples=[\n",
    "                (\"no more than $100\", {\"price_max\": \"100\", \"currency\": \"$\"}),\n",
    "                (\n",
    "                    \"between 50 and 100 dollars\",\n",
    "                    {\"price_max\": \"100\", \"price_min\": \"50\", \"currency\": \"$\"},\n",
    "                ),\n",
    "            ],\n",
    "        ),\n",
    "    ],\n",
    ")\n",
    "\n",
    "chain = create_extraction_chain(llm, schema, encoder_or_encoder_class=\"json\")"
   ]
  },
  {
   "cell_type": "code",
   "execution_count": 38,
   "metadata": {},
   "outputs": [
    {
     "data": {
      "text/plain": [
       "{'action': {'sport': 'baseball',\n",
       "  'location': 'LA area',\n",
       "  'price_range': {'price_max': '100'}}}"
      ]
     },
     "execution_count": 38,
     "metadata": {},
     "output_type": "execute_result"
    }
   ],
   "source": [
    "chain.invoke(\"I want to buy tickets for a baseball game in LA area under $100\")[\"data\"]"
   ]
  },
  {
   "cell_type": "code",
   "execution_count": 39,
   "metadata": {},
   "outputs": [
    {
     "data": {
      "text/plain": [
       "{'action': {'sport': 'basketball',\n",
       "  'location': 'boston',\n",
       "  'price_range': {'price_min': '20', 'price_max': '40', 'currency': '$'}}}"
      ]
     },
     "execution_count": 39,
     "metadata": {},
     "output_type": "execute_result"
    }
   ],
   "source": [
    "chain.invoke(\n",
    "    \"I want to see a celtics game in boston somewhere between 20 and 40 dollars per ticket\"\n",
    ")[\"data\"]"
   ]
  },
  {
   "cell_type": "code",
   "execution_count": null,
   "metadata": {},
   "outputs": [],
   "source": []
  }
 ],
 "metadata": {
  "kernelspec": {
   "display_name": "kor",
   "language": "python",
   "name": "python3"
  },
  "language_info": {
   "codemirror_mode": {
    "name": "ipython",
    "version": 3
   },
   "file_extension": ".py",
   "mimetype": "text/x-python",
   "name": "python",
   "nbconvert_exporter": "python",
   "pygments_lexer": "ipython3",
   "version": "3.10.12"
  }
 },
 "nbformat": 4,
 "nbformat_minor": 2
}
